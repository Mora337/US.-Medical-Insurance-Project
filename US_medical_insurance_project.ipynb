{
 "cells": [
  {
   "cell_type": "markdown",
   "id": "635195ed",
   "metadata": {},
   "source": [
    "US Medical Insurance Project is a pretty classic project which will use python to manipulate a set of data from 2018. The objective is to organize and analyze insurance.csv to learn more about the patient information provided.\n",
    "There are three questions I want to analyze in this project:\n",
    "- Compare the average insurance cost for male and female, see which gender cost more \n",
    "- find out how much money a non-smoker saves \n",
    "- what is the average cost per region"
   ]
  },
  {
   "cell_type": "code",
   "execution_count": 20,
   "id": "f71ec5c8",
   "metadata": {},
   "outputs": [],
   "source": [
    "import csv"
   ]
  },
  {
   "cell_type": "markdown",
   "id": "bf3ffa6f",
   "metadata": {},
   "source": [
    "Firstly, import the libraries which is a csv in this project.\n",
    "After looking up the insurance.csv, we found out that each patient was provided with the following information:\n",
    "\n",
    "Age\n",
    "Sex\n",
    "BMI\n",
    "Number of Children\n",
    "Smoker Status\n",
    "Region\n",
    "Charges\n",
    "\n",
    "An empty list is created for each of these lists, which are populated with the corresponding values from the .csv file."
   ]
  },
  {
   "cell_type": "code",
   "execution_count": 21,
   "id": "38b4e4a1",
   "metadata": {},
   "outputs": [],
   "source": [
    "ages = []\n",
    "gender_list = []\n",
    "bmi_list = []\n",
    "children_list = []\n",
    "smoker_status = []\n",
    "regions = []\n",
    "costs = []"
   ]
  },
  {
   "cell_type": "markdown",
   "id": "8d0031f7",
   "metadata": {},
   "source": [
    "And now, we will create a function to import insurance.csv to Python script"
   ]
  },
  {
   "cell_type": "code",
   "execution_count": 22,
   "id": "52514f1d",
   "metadata": {},
   "outputs": [],
   "source": [
    "def load_data(lst, csv_file, column_name): \n",
    "    with open(csv_file) as csv_info:\n",
    "        csv_dict = csv.DictReader(csv_info)\n",
    "        for row in csv_dict:\n",
    "            lst.append(row[column_name])"
   ]
  },
  {
   "cell_type": "markdown",
   "id": "e5f5a312",
   "metadata": {},
   "source": [
    "The function above allows us to minimize the number of repetitions of opening .csv file and adding the value of each column to each list. Using this function, we can simply call it for every list and column we want."
   ]
  },
  {
   "cell_type": "code",
   "execution_count": 147,
   "id": "8ddc506d",
   "metadata": {},
   "outputs": [],
   "source": [
    "load_data(ages, 'insurance.csv', 'age')\n",
    "load_data(gender_list, 'insurance.csv', 'sex')\n",
    "load_data(bmi_list, 'insurance.csv', 'bmi')\n",
    "load_data(children_list, 'insurance.csv', 'children')\n",
    "load_data(smoker_status, 'insurance.csv', 'smoker')\n",
    "load_data(regions, 'insurance.csv', 'region')\n",
    "load_data(costs, 'insurance.csv', 'charges')"
   ]
  },
  {
   "cell_type": "markdown",
   "id": "acc8e8ed",
   "metadata": {},
   "source": [
    "Our data is all set, so we can start to analyze.\n",
    "I will put the three questions I mentioned in the beginning again:\n",
    "- Compare the average insurance cost for male and female, see which gender cost more \n",
    "- find out how much money a non-smoker saves \n",
    "- what is the average cost per region\n",
    "\n",
    "To deal with those questions, we can make a class called CustmorInfo which includes these information:\n",
    "analyze_gender_costs()\n",
    "analyze_regions()\n",
    "analyze_smoking()"
   ]
  },
  {
   "cell_type": "code",
   "execution_count": 148,
   "id": "1163c62e",
   "metadata": {},
   "outputs": [],
   "source": [
    "class CustmorInfo:\n",
    "    def __init__(self, ages, gender_list, bmi_list, children_list, smoker_status, regions, costs):\n",
    "        self.ages = ages\n",
    "        self.gender_list = gender_list\n",
    "        self.bmi_list = bmi_list\n",
    "        self.children_list = children_list\n",
    "        self.smoker_status = smoker_status\n",
    "        self.regions = regions\n",
    "        self.costs = costs\n",
    "    def analyze_gender_costs(self):\n",
    "        # For the question 1, separate the costs for male and female\n",
    "        male_costs = []\n",
    "        female_costs = []\n",
    "        gender_cost = list(zip(self.gender_list, self.costs))\n",
    "        for gender, cost in gender_cost:\n",
    "            if gender == \"male\":\n",
    "                male_costs.append(float(cost))\n",
    "            else:\n",
    "                female_costs.append(float(cost))\n",
    "        # finding average cost for each gender rounded to two decimal places, and the difference between them, as below\n",
    "        male_average_cost = round(sum(male_costs) / len(male_costs), 2)\n",
    "        female_average_cost = round(sum(female_costs) / len(female_costs), 2)\n",
    "        cost_difference = abs(male_average_cost - female_average_cost)\n",
    "        # returning the result\n",
    "        if male_average_cost < female_average_cost:\n",
    "            return \"The average cost for male insurance is {}, and the average cost for female insurance is {}, so male insurance is cheaper by {} on average.\".format(male_average_cost, female_average_cost, cost_difference)\n",
    "        else:\n",
    "            return \"The average cost for male insurance is ${}, and the average cost for female insurance is {}, so female insurance is cheaper by ${} on average.\".format(male_average_cost, female_average_cost, cost_difference) \n",
    "\n",
    "    def analyze_smoker_status(self):\n",
    "        smoker_cost_sum = 0\n",
    "        smoker_count = 0\n",
    "        nonsmoker_cost_sum = 0\n",
    "        nonsmoker_count = 0\n",
    "        for smoker, cost in list(zip(smoker_status, costs)):\n",
    "            if smoker == 'yes':\n",
    "                smoker_cost_sum += float(cost)\n",
    "                smoker_count += 1\n",
    "            else:\n",
    "                nonsmoker_cost_sum += float(cost)\n",
    "                nonsmoker_count += 1\n",
    "        smoker_cost_avg = round(smoker_cost_sum/smoker_count, 2)\n",
    "        nonsmoker_cost_avg = round(nonsmoker_cost_sum/nonsmoker_count, 2)\n",
    "        avg_diff = smoker_cost_avg - nonsmoker_cost_avg\n",
    "        # printing results\n",
    "        print(\"On average, smokers pay ${} more for their insurance than non-smokers.\".format(avg_diff))\n",
    "\n",
    "    def analyze_regions(self):\n",
    "        # separating costs from each region into their own respective lists\n",
    "        ne_costs = []\n",
    "        se_costs = []\n",
    "        sw_costs = []\n",
    "        nw_costs = []\n",
    "        region_cost = list(zip(self.regions, self.costs))\n",
    "        for region, cost in region_cost:\n",
    "            if region == 'northeast':\n",
    "                ne_costs.append(float(cost))\n",
    "            elif region == 'southeast':\n",
    "                se_costs.append(float(cost))\n",
    "            elif region == 'southwest':\n",
    "                sw_costs.append(float(cost))\n",
    "            elif region == 'northwest':\n",
    "                nw_costs.append(float(cost))\n",
    "        # finding average cost for each list, rounded to two decimal places\n",
    "        ne_avg_cost = round(sum(ne_costs)/len(ne_costs), 2)\n",
    "        se_avg_cost = round(sum(se_costs)/len(se_costs), 2)\n",
    "        sw_avg_cost = round(sum(sw_costs)/len(sw_costs), 2)\n",
    "        nw_avg_cost = round(sum(nw_costs)/len(nw_costs), 2)\n",
    "        # printing results\n",
    "        print(\"The average insurance cost per region of the U.S. is as follows:\\nNortheast: ${} \\nSoutheast: ${} \\nSouthwest: ${} \\nNorthwest: ${}\".format(ne_avg_cost, se_avg_cost, sw_avg_cost, nw_avg_cost))\n"
   ]
  },
  {
   "cell_type": "markdown",
   "id": "41a5c1a1",
   "metadata": {},
   "source": [
    "Now, we will use several examples to test if our methods work."
   ]
  },
  {
   "cell_type": "code",
   "execution_count": 149,
   "id": "f4839f7e",
   "metadata": {},
   "outputs": [],
   "source": [
    "custmor_info = CustmorInfo(ages, gender_list, bmi_list, children_list, smoker_status, regions, costs)"
   ]
  },
  {
   "cell_type": "code",
   "execution_count": 150,
   "id": "bac30c4a",
   "metadata": {},
   "outputs": [
    {
     "data": {
      "text/plain": [
       "'The average cost for male insurance is $13956.75, and the average cost for female insurance is 12569.58, so female insurance is cheaper by $1387.17 on average.'"
      ]
     },
     "execution_count": 150,
     "metadata": {},
     "output_type": "execute_result"
    }
   ],
   "source": [
    "custmor_info.analyze_gender_costs()"
   ]
  },
  {
   "cell_type": "code",
   "execution_count": 151,
   "id": "7c49d627",
   "metadata": {},
   "outputs": [
    {
     "name": "stdout",
     "output_type": "stream",
     "text": [
      "On average, smokers pay $23615.96 more for their insurance than non-smokers.\n"
     ]
    }
   ],
   "source": [
    "custmor_info.analyze_smoker_status()"
   ]
  },
  {
   "cell_type": "code",
   "execution_count": 152,
   "id": "8150f167",
   "metadata": {},
   "outputs": [
    {
     "name": "stdout",
     "output_type": "stream",
     "text": [
      "The average insurance cost per region of the U.S. is as follows:\n",
      "Northeast: $13406.38 \n",
      "Southeast: $14735.41 \n",
      "Southwest: $12346.94 \n",
      "Northwest: $12417.58\n"
     ]
    }
   ],
   "source": [
    "custmor_info.analyze_regions()"
   ]
  }
 ],
 "metadata": {
  "kernelspec": {
   "display_name": "Python 3",
   "language": "python",
   "name": "python3"
  },
  "language_info": {
   "codemirror_mode": {
    "name": "ipython",
    "version": 3
   },
   "file_extension": ".py",
   "mimetype": "text/x-python",
   "name": "python",
   "nbconvert_exporter": "python",
   "pygments_lexer": "ipython3",
   "version": "3.8.8"
  }
 },
 "nbformat": 4,
 "nbformat_minor": 5
}
